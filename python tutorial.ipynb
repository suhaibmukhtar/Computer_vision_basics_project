{
 "cells": [
  {
   "cell_type": "markdown",
   "id": "04e06e53",
   "metadata": {},
   "source": [
    "## Working with strings (string slicing already covered)"
   ]
  },
  {
   "cell_type": "code",
   "execution_count": 8,
   "id": "2c13478b",
   "metadata": {},
   "outputs": [
    {
     "data": {
      "text/plain": [
       "'SUHAIB MUKHTAR'"
      ]
     },
     "execution_count": 8,
     "metadata": {},
     "output_type": "execute_result"
    }
   ],
   "source": [
    "a='suhaib mukhtar'\n",
    "#to upper case\n",
    "a=a.upper()\n",
    "a\n"
   ]
  },
  {
   "cell_type": "code",
   "execution_count": 9,
   "id": "c7df06eb",
   "metadata": {},
   "outputs": [
    {
     "name": "stdout",
     "output_type": "stream",
     "text": [
      "SUHAIB MUKHTAR\n",
      "suhaib mukhtar\n"
     ]
    }
   ],
   "source": [
    "print(a)\n",
    "#converting a into lower-case\n",
    "a=a.lower()\n",
    "print(a)"
   ]
  },
  {
   "cell_type": "markdown",
   "id": "df038a94",
   "metadata": {},
   "source": [
    "### Remove Whitespace\n",
    "Whitespace is the space before and/or after the actual text, and very often you want to remove this space.\n",
    "\n",
    "## Example\n",
    "**The strip() method removes any whitespace from the beginning or the end:**"
   ]
  },
  {
   "cell_type": "code",
   "execution_count": 25,
   "id": "9d389b32",
   "metadata": {},
   "outputs": [
    {
     "name": "stdout",
     "output_type": "stream",
     "text": [
      "suhaib mukhtar\n",
      "mukhtar ahmad dar\n",
      "wanihama payeen\n",
      "[' suhaib mukhtar', 'mukhtar ahmad dar ', ' wanihama payeen ']\n"
     ]
    }
   ],
   "source": [
    "a=' suhaib mukhtar'\n",
    "b='mukhtar ahmad dar '\n",
    "c=' wanihama payeen '\n",
    "print(a.strip()) #removes the initial space\n",
    "print(b.strip()) #removes space at last\n",
    "print(c.strip()) #removes the space from front and end\n",
    "#if not assigned not removed\n",
    "li2=[]\n",
    "li2.append(a)\n",
    "li2.append(b)\n",
    "li2.append(c)\n",
    "print(li2)"
   ]
  },
  {
   "cell_type": "markdown",
   "id": "544b86c6",
   "metadata": {},
   "source": [
    "### to check whether space has been removed or not"
   ]
  },
  {
   "cell_type": "code",
   "execution_count": 27,
   "id": "e14881c5",
   "metadata": {},
   "outputs": [
    {
     "name": "stdout",
     "output_type": "stream",
     "text": [
      "After saving the changes in the variable\n"
     ]
    },
    {
     "data": {
      "text/plain": [
       "['suhaib mukhtar', 'mukhtar ahmad dar', 'wanihama payeen']"
      ]
     },
     "execution_count": 27,
     "metadata": {},
     "output_type": "execute_result"
    }
   ],
   "source": [
    "#to remove space save the changes in variable\n",
    "li=[]\n",
    "a=a.strip()\n",
    "b=b.strip()\n",
    "c=c.strip()\n",
    "li.append(a)\n",
    "li.append(b)\n",
    "li.append(c)\n",
    "print('After saving the changes in the variable')\n",
    "li"
   ]
  },
  {
   "cell_type": "markdown",
   "id": "b34991f0",
   "metadata": {},
   "source": [
    "#### To remove the space from left"
   ]
  },
  {
   "cell_type": "code",
   "execution_count": 31,
   "id": "6af10e99",
   "metadata": {},
   "outputs": [
    {
     "name": "stdout",
     "output_type": "stream",
     "text": [
      "  suhaib mukhtar\n",
      "after removing the space from left\n",
      "suhaib mukhtar\n"
     ]
    }
   ],
   "source": [
    "a='  suhaib mukhtar'\n",
    "print(a)\n",
    "a=a.lstrip()\n",
    "print(f\"after removing the space from left\\n{a}\")"
   ]
  },
  {
   "cell_type": "markdown",
   "id": "6dcb0ceb",
   "metadata": {},
   "source": [
    "### To remove the space from the right side"
   ]
  },
  {
   "cell_type": "code",
   "execution_count": 37,
   "id": "fdb4a028",
   "metadata": {},
   "outputs": [
    {
     "name": "stdout",
     "output_type": "stream",
     "text": [
      "suhaib mukhtar   hi\n",
      "after removing space using rstrip():\n",
      "suhaib mukhtarhi\n",
      "suhaib mukhtar hi\n"
     ]
    }
   ],
   "source": [
    "c='suhaib mukhtar   '\n",
    "#there is clear gap\n",
    "print(c+str('hi'))\n",
    "print(\"after removing space using rstrip():\")\n",
    "c=c.rstrip()\n",
    "print(c+str('hi'))\n",
    "#to give the space\n",
    "print(c+str(' hi'))"
   ]
  },
  {
   "cell_type": "markdown",
   "id": "d6799c44",
   "metadata": {},
   "source": [
    "### String Concatenation\n",
    "To concatenate, or combine, two strings you can use the + operator."
   ]
  },
  {
   "cell_type": "code",
   "execution_count": 38,
   "id": "86d7bead",
   "metadata": {},
   "outputs": [
    {
     "name": "stdout",
     "output_type": "stream",
     "text": [
      "My name is: suhaibmukhtar\n"
     ]
    }
   ],
   "source": [
    "a='suhaib'\n",
    "b=\"mukhtar\"\n",
    "print(\"My name is:\",a+b)"
   ]
  },
  {
   "cell_type": "markdown",
   "id": "86e455f5",
   "metadata": {},
   "source": [
    "## Replace String\n",
    "**Example**\n",
    "The replace() method replaces a string with another string:"
   ]
  },
  {
   "cell_type": "code",
   "execution_count": 15,
   "id": "84ddb045",
   "metadata": {},
   "outputs": [
    {
     "data": {
      "text/plain": [
       "'suhaib mukhtar'"
      ]
     },
     "execution_count": 15,
     "metadata": {},
     "output_type": "execute_result"
    }
   ],
   "source": [
    "a='suhaib ahmad'\n",
    "#change is temporay and to  save must be assigned a=a.replace('ahmad','mukhtar')\n",
    "a.replace('ahmad','mukhtar')"
   ]
  },
  {
   "cell_type": "markdown",
   "id": "d78aa492",
   "metadata": {},
   "source": [
    "### Split String\n",
    "The split() method returns a list where the text between the specified separator becomes the list items.\n",
    "\n",
    "### Example\n",
    "The split() method splits the string into substrings if it finds instances of the separator:\n",
    "\n"
   ]
  },
  {
   "cell_type": "code",
   "execution_count": 39,
   "id": "def3d8ca",
   "metadata": {},
   "outputs": [
    {
     "name": "stdout",
     "output_type": "stream",
     "text": [
      "['Hello', ' World!']\n"
     ]
    }
   ],
   "source": [
    "a = \"Hello, World!\"\n",
    "print(a.split(\",\")) # returns ['Hello', ' World!']"
   ]
  },
  {
   "cell_type": "code",
   "execution_count": 42,
   "id": "d84e1179",
   "metadata": {},
   "outputs": [
    {
     "name": "stdout",
     "output_type": "stream",
     "text": [
      "['Hello,', 'World!']\n"
     ]
    }
   ],
   "source": [
    "#using space as seperator\n",
    "print(a.split()) # 'hello,' 'world!'"
   ]
  },
  {
   "cell_type": "code",
   "execution_count": 45,
   "id": "bb18b29c",
   "metadata": {},
   "outputs": [
    {
     "name": "stdout",
     "output_type": "stream",
     "text": [
      "['my', 'name', 'is', 'suhaib', 'mukhtar', 'dar,', 'i', 'live', 'at', 'wanihama', 'payeen', 'hazratbal', 'srinagar']\n"
     ]
    }
   ],
   "source": [
    "text='my name is suhaib mukhtar dar, i live at wanihama payeen hazratbal srinagar'\n",
    "print(text.split())#returns the list of string by dividing the string when space comes in b/w"
   ]
  },
  {
   "cell_type": "markdown",
   "id": "f7b6edf2",
   "metadata": {},
   "source": [
    "## String Format\n",
    "As we learned in the Python Variables chapter, we cannot combine strings and numbers like this:(concatenation)"
   ]
  },
  {
   "cell_type": "code",
   "execution_count": 48,
   "id": "02f5e614",
   "metadata": {},
   "outputs": [],
   "source": [
    "## Throws an error\n",
    "# a=12\n",
    "# b='suhaib'\n",
    "# print(a+b)"
   ]
  },
  {
   "cell_type": "markdown",
   "id": "ffe60775",
   "metadata": {},
   "source": [
    "## This problem is solved by format strings"
   ]
  },
  {
   "cell_type": "markdown",
   "id": "1718a628",
   "metadata": {},
   "source": [
    "**But we can combine strings and numbers by using the format() method!**\n",
    "\n",
    "**The format() method takes the passed arguments, formats them, and places them in the string where the placeholders {} are:**"
   ]
  },
  {
   "cell_type": "code",
   "execution_count": 60,
   "id": "33d58a9a",
   "metadata": {},
   "outputs": [
    {
     "name": "stdout",
     "output_type": "stream",
     "text": [
      "My name is John, and I am 36\n"
     ]
    }
   ],
   "source": [
    "age = 36\n",
    "txt = \"My name is John, and I am {}\"\n",
    "print(txt.format(age))"
   ]
  },
  {
   "cell_type": "code",
   "execution_count": 61,
   "id": "84184068",
   "metadata": {},
   "outputs": [
    {
     "name": "stdout",
     "output_type": "stream",
     "text": [
      "sir has gave me 89 marks in this subject\n"
     ]
    }
   ],
   "source": [
    "marks=89\n",
    "text='sir has gave me {} marks in this subject'\n",
    "print(text.format(marks))"
   ]
  },
  {
   "cell_type": "markdown",
   "id": "d45de132",
   "metadata": {},
   "source": [
    "## shortcut for doing it is using f-strings"
   ]
  },
  {
   "cell_type": "code",
   "execution_count": 62,
   "id": "58fa3e25",
   "metadata": {},
   "outputs": [
    {
     "name": "stdout",
     "output_type": "stream",
     "text": [
      "sir has gave me 89 marks in this subject\n"
     ]
    }
   ],
   "source": [
    "marks=89\n",
    "print(f'sir has gave me {marks} marks in this subject')"
   ]
  },
  {
   "cell_type": "code",
   "execution_count": 56,
   "id": "df3f1753",
   "metadata": {},
   "outputs": [
    {
     "name": "stdout",
     "output_type": "stream",
     "text": [
      "suhaib12\n"
     ]
    }
   ],
   "source": [
    "print(f\"{b}{a}\")#concatenation of strings and numbers"
   ]
  },
  {
   "cell_type": "code",
   "execution_count": 58,
   "id": "e5241e3e",
   "metadata": {},
   "outputs": [
    {
     "name": "stdout",
     "output_type": "stream",
     "text": [
      "My name is John, I am 36 years old\n"
     ]
    }
   ],
   "source": [
    "#example 2\n",
    "age = 36\n",
    "txt = \"My name is John, I am \"\n",
    "print(f\"{txt}{age} years old\")"
   ]
  },
  {
   "cell_type": "code",
   "execution_count": 64,
   "id": "b457f225",
   "metadata": {},
   "outputs": [
    {
     "name": "stdout",
     "output_type": "stream",
     "text": [
      "My name is suhaib and my father's name is mukhtar ahmad dar\n"
     ]
    }
   ],
   "source": [
    "name='suhaib'\n",
    "fathers_name='mukhtar ahmad dar'\n",
    "print(f\"My name is {name} and my father's name is {fathers_name}\")\n"
   ]
  },
  {
   "cell_type": "markdown",
   "id": "1fb3847b",
   "metadata": {},
   "source": [
    "### Doc strings in Python"
   ]
  },
  {
   "cell_type": "markdown",
   "id": "95df727f",
   "metadata": {},
   "source": [
    "**Doc strings are the string literals that are placed right after the function definition,Class etc**"
   ]
  },
  {
   "cell_type": "code",
   "execution_count": 67,
   "id": "ed9bcb75",
   "metadata": {},
   "outputs": [
    {
     "name": "stdout",
     "output_type": "stream",
     "text": [
      "Sum of two numbers is:5 and doc string:\n",
      "the function takes input the two numbers and returns the sum of two numbers\n"
     ]
    }
   ],
   "source": [
    "def avg(a,b):\n",
    "    '''the function takes input the two numbers and returns the sum of two numbers'''#doc strings\n",
    "    return a+b\n",
    "summ=avg(2,3)\n",
    "print(f\"Sum of two numbers is:{summ} and doc string:\\n{avg.__doc__}\")"
   ]
  },
  {
   "cell_type": "markdown",
   "id": "3cae3340",
   "metadata": {},
   "source": [
    "### PeP-8 also known as Zen of python is a poem, which says many things about how our program or project should be"
   ]
  },
  {
   "cell_type": "code",
   "execution_count": 1,
   "id": "64a96a4d",
   "metadata": {},
   "outputs": [
    {
     "name": "stdout",
     "output_type": "stream",
     "text": [
      "The Zen of Python, by Tim Peters\n",
      "\n",
      "Beautiful is better than ugly.\n",
      "Explicit is better than implicit.\n",
      "Simple is better than complex.\n",
      "Complex is better than complicated.\n",
      "Flat is better than nested.\n",
      "Sparse is better than dense.\n",
      "Readability counts.\n",
      "Special cases aren't special enough to break the rules.\n",
      "Although practicality beats purity.\n",
      "Errors should never pass silently.\n",
      "Unless explicitly silenced.\n",
      "In the face of ambiguity, refuse the temptation to guess.\n",
      "There should be one-- and preferably only one --obvious way to do it.\n",
      "Although that way may not be obvious at first unless you're Dutch.\n",
      "Now is better than never.\n",
      "Although never is often better than *right* now.\n",
      "If the implementation is hard to explain, it's a bad idea.\n",
      "If the implementation is easy to explain, it may be a good idea.\n",
      "Namespaces are one honking great idea -- let's do more of those!\n"
     ]
    }
   ],
   "source": [
    "import this"
   ]
  },
  {
   "cell_type": "markdown",
   "id": "07f72842",
   "metadata": {},
   "source": [
    "## Recursion"
   ]
  },
  {
   "cell_type": "markdown",
   "id": "e9823887",
   "metadata": {},
   "source": [
    "Print 1 to n without using loops\n",
    "Read\n",
    "Discuss\n",
    "Courses\n",
    "Practice\n",
    "You are given an integer N. Print numbers from 1 to N without the help of loops."
   ]
  },
  {
   "cell_type": "code",
   "execution_count": 3,
   "id": "47f7ef67",
   "metadata": {},
   "outputs": [
    {
     "name": "stdout",
     "output_type": "stream",
     "text": [
      "Enter the limit upto which you want to display from 1:500\n",
      "1 2 3 4 5 6 7 8 9 10 11 12 13 14 15 16 17 18 19 20 21 22 23 24 25 26 27 28 29 30 31 32 33 34 35 36 37 38 39 40 41 42 43 44 45 46 47 48 49 50 51 52 53 54 55 56 57 58 59 60 61 62 63 64 65 66 67 68 69 70 71 72 73 74 75 76 77 78 79 80 81 82 83 84 85 86 87 88 89 90 91 92 93 94 95 96 97 98 99 100 101 102 103 104 105 106 107 108 109 110 111 112 113 114 115 116 117 118 119 120 121 122 123 124 125 126 127 128 129 130 131 132 133 134 135 136 137 138 139 140 141 142 143 144 145 146 147 148 149 150 151 152 153 154 155 156 157 158 159 160 161 162 163 164 165 166 167 168 169 170 171 172 173 174 175 176 177 178 179 180 181 182 183 184 185 186 187 188 189 190 191 192 193 194 195 196 197 198 199 200 201 202 203 204 205 206 207 208 209 210 211 212 213 214 215 216 217 218 219 220 221 222 223 224 225 226 227 228 229 230 231 232 233 234 235 236 237 238 239 240 241 242 243 244 245 246 247 248 249 250 251 252 253 254 255 256 257 258 259 260 261 262 263 264 265 266 267 268 269 270 271 272 273 274 275 276 277 278 279 280 281 282 283 284 285 286 287 288 289 290 291 292 293 294 295 296 297 298 299 300 301 302 303 304 305 306 307 308 309 310 311 312 313 314 315 316 317 318 319 320 321 322 323 324 325 326 327 328 329 330 331 332 333 334 335 336 337 338 339 340 341 342 343 344 345 346 347 348 349 350 351 352 353 354 355 356 357 358 359 360 361 362 363 364 365 366 367 368 369 370 371 372 373 374 375 376 377 378 379 380 381 382 383 384 385 386 387 388 389 390 391 392 393 394 395 396 397 398 399 400 401 402 403 404 405 406 407 408 409 410 411 412 413 414 415 416 417 418 419 420 421 422 423 424 425 426 427 428 429 430 431 432 433 434 435 436 437 438 439 440 441 442 443 444 445 446 447 448 449 450 451 452 453 454 455 456 457 458 459 460 461 462 463 464 465 466 467 468 469 470 471 472 473 474 475 476 477 478 479 480 481 482 483 484 485 486 487 488 489 490 491 492 493 494 495 496 497 498 499 500 "
     ]
    }
   ],
   "source": [
    "def one_to_n(a,n):\n",
    "    if a==n:\n",
    "        print(a,end=' ')\n",
    "        return\n",
    "    else:\n",
    "        print(a,end=' ')\n",
    "#         a+=1\n",
    "        return one_to_n(a+1,n) #tail recursion\n",
    "n=int(input(\"Enter the limit upto which you want to display from 1:\"))\n",
    "one_to_n(1,n)"
   ]
  },
  {
   "cell_type": "markdown",
   "id": "7139d511",
   "metadata": {},
   "source": [
    "## Another way of doing it"
   ]
  },
  {
   "cell_type": "code",
   "execution_count": 6,
   "id": "41e93f98",
   "metadata": {},
   "outputs": [
    {
     "name": "stdout",
     "output_type": "stream",
     "text": [
      "Enter the limit upto which you want to display the numbers:100\n",
      "1 2 3 4 5 6 7 8 9 10 11 12 13 14 15 16 17 18 19 20 21 22 23 24 25 26 27 28 29 30 31 32 33 34 35 36 37 38 39 40 41 42 43 44 45 46 47 48 49 50 51 52 53 54 55 56 57 58 59 60 61 62 63 64 65 66 67 68 69 70 71 72 73 74 75 76 77 78 79 80 81 82 83 84 85 86 87 88 89 90 91 92 93 94 95 96 97 98 99 100 "
     ]
    }
   ],
   "source": [
    "def one_rec(n):\n",
    "    if n>0:#base condition\n",
    "        #head-recursion\n",
    "        one_rec(n-1)\n",
    "        print(n,end=' ')#when it becomes 1 un winding phase starts\n",
    "\n",
    "n=int(input('Enter the limit upto which you want to display the numbers:'))\n",
    "one_rec(n)\n"
   ]
  },
  {
   "cell_type": "markdown",
   "id": "ca1737a7",
   "metadata": {},
   "source": [
    "### Print N to 1 without loop\n",
    "Read\n",
    "Discuss\n",
    "Courses\n",
    "Practice\n",
    "You are given an integer N. Print numbers from N to 1 without the help of loops.\n",
    "\n",
    "Examples:\n",
    "\n",
    "Input: N = 5\n",
    "Output: 5 4 3 2 1\n",
    "Explanation: We have to print numbers from 5 to 1.\n",
    "\n",
    "Input: N = 10\n",
    "Output: 10 9 8 7 6 5 4 3 2 1\n",
    "Explanation: We have to print numbers from 10 to 1."
   ]
  },
  {
   "cell_type": "code",
   "execution_count": 8,
   "id": "572c5ace",
   "metadata": {},
   "outputs": [
    {
     "name": "stdout",
     "output_type": "stream",
     "text": [
      "Enter the upper limit:10\n",
      "10 9 8 7 6 5 4 3 2 1 "
     ]
    }
   ],
   "source": [
    "def fun(n):\n",
    "    if n==1:\n",
    "        print(n,end=\" \") \n",
    "    else:\n",
    "        print(n,end=\" \")\n",
    "        fun(n-1)\n",
    "n=int(input('Enter the upper limit:'))\n",
    "fun(n)"
   ]
  },
  {
   "cell_type": "markdown",
   "id": "23ed8664",
   "metadata": {},
   "source": [
    "#### Another way"
   ]
  },
  {
   "cell_type": "code",
   "execution_count": 11,
   "id": "176d1d06",
   "metadata": {},
   "outputs": [
    {
     "name": "stdout",
     "output_type": "stream",
     "text": [
      "Enter the upper limit:8\n",
      "8 7 6 5 4 3 2 1 "
     ]
    }
   ],
   "source": [
    "def fun1(n):\n",
    "    if n>0:\n",
    "        print(n,end=\" \")\n",
    "        fun1(n-1)\n",
    "n=int(input('Enter the upper limit:'))\n",
    "fun1(n)\n",
    "\n"
   ]
  },
  {
   "cell_type": "markdown",
   "id": "028b9696",
   "metadata": {},
   "source": [
    "### Head recursion"
   ]
  },
  {
   "cell_type": "code",
   "execution_count": 3,
   "id": "49e2d648",
   "metadata": {},
   "outputs": [
    {
     "name": "stdout",
     "output_type": "stream",
     "text": [
      "Enter the upper limit:10\n",
      "10 9 8 7 6 5 4 3 2 1 "
     ]
    }
   ],
   "source": [
    "def fun2(a,n):\n",
    "    if(a<=n):\n",
    "        #head recursion\n",
    "        fun2(a+1,n)\n",
    "        print(a,end=' ')#at last call unwinding phase starts\n",
    "n=int(input('Enter the upper limit:'))\n",
    "fun2(1,n)\n"
   ]
  },
  {
   "cell_type": "markdown",
   "id": "5c734095",
   "metadata": {},
   "source": [
    "### Mean of array using recursion\n",
    "Read\n",
    "Discuss\n",
    "Courses\n",
    "Practice\n",
    "To find the mean of the elements of the array. \n",
    "\n",
    "Mean = (Sum of elements of the Array) /\n",
    "       (Total no of elements in Array)\n",
    "Examples: \n",
    "\n",
    "Input : 1 2 3 4 5\n",
    "Output : 3\n",
    "\n",
    "Input : 1 2 3\n",
    "Output : 2\n",
    "To find the mean using recursion assume that the problem is already solved for N-1 ie you have to find for n"
   ]
  },
  {
   "cell_type": "markdown",
   "id": "260e1837",
   "metadata": {},
   "source": [
    "#using for loop"
   ]
  },
  {
   "cell_type": "code",
   "execution_count": 17,
   "id": "16a52289",
   "metadata": {},
   "outputs": [
    {
     "name": "stdout",
     "output_type": "stream",
     "text": [
      "Enter the number of elements:5\n",
      "Enter the elements you want to enter\n",
      "Enter the 1th ele:1\n",
      "Enter the 2th ele:2\n",
      "Enter the 3th ele:3\n",
      "Enter the 4th ele:4\n",
      "Enter the 5th ele:5\n",
      "Mean of element of array:1.0\n"
     ]
    }
   ],
   "source": [
    "def mean_om_arr(ele,n):\n",
    "    sum=0\n",
    "    if n>0:\n",
    "     #because we are not returning to the ist statement when returning\n",
    "        mean_of_arr(ele,n-1) #after returning we are only calculating the sum\n",
    "        sum+=ele[n-1]\n",
    "    return sum\n",
    "            \n",
    "ele=[]\n",
    "n=int(input('Enter the number of elements:'))\n",
    "print(\"Enter the elements you want to enter\",end='\\n')\n",
    "for i in range(n):\n",
    "    ele.append(int(input(f'Enter the {i+1}th ele:')))\n",
    "sum=mean_of_arr(ele,len(ele))\n",
    "print(f\"Mean of element of array:{ sum/len(ele)}\")"
   ]
  },
  {
   "cell_type": "markdown",
   "id": "6b08acc6",
   "metadata": {},
   "source": [
    "### Mosh's python tutorial"
   ]
  },
  {
   "cell_type": "markdown",
   "id": "1dfacd03",
   "metadata": {},
   "source": [
    "#### Weight converter in python"
   ]
  },
  {
   "cell_type": "code",
   "execution_count": 20,
   "id": "c11cc5a3",
   "metadata": {},
   "outputs": [
    {
     "name": "stdout",
     "output_type": "stream",
     "text": [
      "1.Enter your weight in Kg's\n",
      "2.Enter you weight in pounds\n",
      "Enter the choice:1\n",
      "Enter your weight in kgs:72\n",
      "Your weight in pounds is:159.0\n"
     ]
    }
   ],
   "source": [
    "#if a person enters weight in pounds convert it to kg's and vice versa\n",
    "print('1.Enter your weight in Kg\\'s\\n2.Enter you weight in pounds')\n",
    "n=int(input('Enter the choice:'))\n",
    "weight=0\n",
    "if n==1:\n",
    "    kg=int(input('Enter your weight in kgs:'))\n",
    "    weight=kg//0.45 #floor division, returns only the integer part\n",
    "    print(f\"Your weight in pounds is:{weight}\")\n",
    "elif n==2:\n",
    "    lbs=int(input('Enter your weight pounds(lbs):'))\n",
    "    weight=lbs*0.45 #floor division, returns only the integer part\n",
    "    print(f\"Your weight in pounds is:{weight}\")\n",
    "else:\n",
    "    print(\"please enter a valid choice...\")\n",
    "    \n",
    "    "
   ]
  },
  {
   "cell_type": "markdown",
   "id": "9e24086a",
   "metadata": {},
   "source": [
    "### while loop"
   ]
  },
  {
   "cell_type": "code",
   "execution_count": 22,
   "id": "1058c78f",
   "metadata": {},
   "outputs": [
    {
     "name": "stdout",
     "output_type": "stream",
     "text": [
      "Enter the limit:40\n",
      "1 2 3 4 5 6 7 8 9 10 11 12 13 14 15 16 17 18 19 20 21 22 23 24 25 26 27 28 29 30 31 32 33 34 35 36 37 38 39 40 "
     ]
    }
   ],
   "source": [
    "## print numbers from 1 to n\n",
    "i=1\n",
    "n=int(input('Enter the limit:'))\n",
    "while i<=n:\n",
    "    print(i,end=' ')\n",
    "    i+=1 #augmented assignment otherwise it will run in infinite loop"
   ]
  },
  {
   "cell_type": "code",
   "execution_count": 24,
   "id": "a68eee4d",
   "metadata": {},
   "outputs": [
    {
     "name": "stdout",
     "output_type": "stream",
     "text": [
      "Enter the limit from where we want to descend:100\n",
      "100\n",
      "98\n",
      "96\n",
      "94\n",
      "92\n",
      "90\n",
      "88\n",
      "86\n",
      "84\n",
      "82\n",
      "80\n",
      "78\n",
      "76\n",
      "74\n",
      "72\n",
      "70\n",
      "68\n",
      "66\n",
      "64\n",
      "62\n",
      "60\n",
      "58\n",
      "56\n",
      "54\n",
      "52\n",
      "50\n",
      "48\n",
      "46\n",
      "44\n",
      "42\n",
      "40\n",
      "38\n",
      "36\n",
      "34\n",
      "32\n",
      "30\n",
      "28\n",
      "26\n",
      "24\n",
      "22\n",
      "20\n",
      "18\n",
      "16\n",
      "14\n",
      "12\n",
      "10\n",
      "8\n",
      "6\n",
      "4\n",
      "2\n"
     ]
    }
   ],
   "source": [
    "#to print number in descending other with a gap of 2\n",
    "n=int(input('Enter the limit from where we want to descend:'))\n",
    "while(n>0):\n",
    "    print(n)\n",
    "    n-=2\n",
    "#for loops two condiions are necessary \n",
    "#a) initialization\n",
    "#b)condition\n",
    "#c)flow"
   ]
  },
  {
   "cell_type": "markdown",
   "id": "7f34ea68",
   "metadata": {},
   "source": [
    " ## printing the star program right angled triangle"
   ]
  },
  {
   "cell_type": "code",
   "execution_count": 25,
   "id": "058c790d",
   "metadata": {},
   "outputs": [
    {
     "name": "stdout",
     "output_type": "stream",
     "text": [
      "Enter the number of lines you want:5\n",
      "*\n",
      "**\n",
      "***\n",
      "****\n",
      "*****\n"
     ]
    }
   ],
   "source": [
    "n=int(input('Enter the number of lines you want:'))\n",
    "i=1\n",
    "while i<=n:\n",
    "    print(\"*\"*i)#if i=2 meams *x2=**(two starts like wise for 3 and so on)\n",
    "    i+=1"
   ]
  },
  {
   "cell_type": "markdown",
   "id": "2b985a32",
   "metadata": {},
   "source": [
    "### Guessing game"
   ]
  },
  {
   "cell_type": "code",
   "execution_count": 29,
   "id": "2ebe936c",
   "metadata": {},
   "outputs": [
    {
     "name": "stdout",
     "output_type": "stream",
     "text": [
      "Enter the secret number:3\n",
      "Guess:5\n",
      "Guess:3\n",
      "You won!\n"
     ]
    }
   ],
   "source": [
    "## take a secrect number, ask the use to guess the secret number if guess is correct return you won else ask for guess\n",
    "## 3 times and if it fails ,display sorry you failed!\n",
    "secret_num=int(input('Enter the secret number:'))\n",
    "guess_limit=3\n",
    "guess_count=1\n",
    "while(guess_count<=guess_limit):\n",
    "    guess=int(input('Guess:'))\n",
    "    if guess==secret_num:\n",
    "        print(\"You won!\")\n",
    "        break\n",
    "    guess_count+=1\n",
    "else:\n",
    "    print('Sorry you failed!')\n"
   ]
  },
  {
   "cell_type": "markdown",
   "id": "e5d542ee",
   "metadata": {},
   "source": [
    "### Car game"
   ]
  },
  {
   "cell_type": "markdown",
   "id": "bcc04a2f",
   "metadata": {},
   "source": [
    "This program asks the user for command and if command is\n",
    ">help\n",
    "start-to start the car\n",
    "stop-to stop the car\n",
    "quit-to exit\n",
    ">\n",
    "**if the user enters any wrong command it should display I don't understand that..**\n",
    "***if command entered \n",
    ">start\n",
    "car started..Ready to go!\n",
    ">stop\n",
    "car stopped.\n",
    ">quit\n",
    "#profram should exit\n",
    "#it should continueously ask for command it not quited"
   ]
  },
  {
   "cell_type": "code",
   "execution_count": 33,
   "id": "b910deb4",
   "metadata": {},
   "outputs": [
    {
     "name": "stdout",
     "output_type": "stream",
     "text": [
      ">help\n",
      "  \n",
      "start-to start the car\n",
      "stop-to stop the car\n",
      "quit-to exit\n",
      "\n",
      ">STOP\n",
      "Car stopped.\n",
      ">stop\n",
      "Car stopped.\n",
      ">start\n",
      "Car started, Ready to go!\n",
      ">kfjkf\n",
      "i don't understand that...\n",
      ">quiT\n"
     ]
    }
   ],
   "source": [
    "command=''#bcz all comands are string\n",
    "while True:\n",
    "    command=input('>').lower() #so that it works well with case-sensitive also\n",
    "    if command=='start':\n",
    "        print('Car started, Ready to go!')\n",
    "    elif command=='stop':\n",
    "        print('Car stopped.')\n",
    "    elif command=='quit':\n",
    "        break\n",
    "    elif command=='help':\n",
    "        print(\"\"\"  \n",
    "start-to start the car\n",
    "stop-to stop the car\n",
    "quit-to exit\n",
    "\"\"\")#if not written with the window shows indentation in ouput also\n",
    "    else:\n",
    "        print('i don\\'t understand that...')"
   ]
  },
  {
   "cell_type": "markdown",
   "id": "5a7ced01",
   "metadata": {},
   "source": [
    "#### Modify the above code if car stoped or car started is repeated it should say car is already started"
   ]
  },
  {
   "cell_type": "code",
   "execution_count": null,
   "id": "bb7e994f",
   "metadata": {},
   "outputs": [],
   "source": [
    "command=''#bcz all comands are string\n",
    "st=0\n",
    "sp=0\n",
    "while True:\n",
    "    command=input('>').lower() #so that it works well with case-sensitive also\n",
    "    if command=='start':\n",
    "        st+=1\n",
    "        if st==1:\n",
    "            print('Car started, Ready to go!')\n",
    "            sp=0\n",
    "        else:\n",
    "            print('Car is already started!')\n",
    "            sp=0\n",
    "    elif command=='stop':\n",
    "        sp+=1\n",
    "        if sp==1:\n",
    "            print('Car stoped!') \n",
    "            st=0\n",
    "        else:\n",
    "            print('Car is already stopped')\n",
    "            st=0\n",
    "    elif command=='quit':\n",
    "        break\n",
    "    elif command=='help':\n",
    "        print(\"\"\"  \n",
    "start-to start the car\n",
    "stop-to stop the car\n",
    "quit-to exit\n",
    "\"\"\")#if not written with the window shows indentation in ouput also\n",
    "    else:\n",
    "        print('i don\\'t understand that...')\n",
    "        \n",
    "#we have also included the fact that if car has been stopped,if we start it, it does'nt shows car already started bcz\n",
    "#car has been stopped and same when car is started after stop, to stop the car it does'nt show already stopped bcz we\n",
    "#have to stop it after starting again"
   ]
  },
  {
   "cell_type": "markdown",
   "id": "ce9518bd",
   "metadata": {},
   "source": [
    "### another way using boolean"
   ]
  },
  {
   "cell_type": "code",
   "execution_count": 40,
   "id": "c8fc2b1c",
   "metadata": {},
   "outputs": [
    {
     "name": "stdout",
     "output_type": "stream",
     "text": [
      ">start\n",
      "Car started, Ready to go!\n",
      ">start\n",
      "Car is already started!\n",
      ">stop\n",
      "Car stoped!\n",
      ">stop\n",
      "Car is already stopped\n",
      ">start\n",
      "Car started, Ready to go!\n",
      ">Start\n",
      "Car is already started!\n",
      ">quit\n"
     ]
    }
   ],
   "source": [
    "command=''#bcz all comands are string\n",
    "is_started=False\n",
    "is_stoped=False\n",
    "while True:\n",
    "    command=input('>').lower() #so that it works well with case-sensitive also\n",
    "    if command=='start':\n",
    "        if not is_started:\n",
    "            is_started=True\n",
    "            print('Car started, Ready to go!')\n",
    "            is_stoped=False\n",
    "        else:\n",
    "            print('Car is already started!')\n",
    "    elif command=='stop':\n",
    "        if not is_stoped:\n",
    "            is_stoped=True\n",
    "            print('Car stoped!') \n",
    "            is_started=False\n",
    "        else:\n",
    "            print('Car is already stopped')\n",
    "    elif command=='quit':\n",
    "        break\n",
    "    elif command=='help':\n",
    "        print(\"\"\"  \n",
    "start-to start the car\n",
    "stop-to stop the car\n",
    "quit-to exit\n",
    "\"\"\")#if not written with the window shows indentation in ouput also\n",
    "    else:\n",
    "        print('i don\\'t understand that...')\n",
    "        \n",
    "#we have also included the fact that if car has been stopped,if we start it, it does'nt shows car already started bcz\n",
    "#car has been stopped and same when car is started after stop, to stop the car it does'nt show already stopped bcz we\n",
    "#have to stop it after starting again"
   ]
  },
  {
   "cell_type": "markdown",
   "id": "44d60fc4",
   "metadata": {},
   "source": [
    "### For loops in pyton"
   ]
  },
  {
   "cell_type": "code",
   "execution_count": 41,
   "id": "8cd1794e",
   "metadata": {},
   "outputs": [
    {
     "name": "stdout",
     "output_type": "stream",
     "text": [
      "S\n",
      "u\n",
      "h\n",
      "a\n",
      "i\n",
      "b\n"
     ]
    }
   ],
   "source": [
    "for loop_var in 'Suhaib':#to iterated over the string\n",
    "    print(loop_var)"
   ]
  },
  {
   "cell_type": "markdown",
   "id": "b1b845fb",
   "metadata": {},
   "source": [
    "### Nested loops"
   ]
  },
  {
   "cell_type": "code",
   "execution_count": 43,
   "id": "c7338ead",
   "metadata": {},
   "outputs": [
    {
     "name": "stdout",
     "output_type": "stream",
     "text": [
      "(0,0)\n",
      "(0,1)\n",
      "(0,2)\n",
      "(1,0)\n",
      "(1,1)\n",
      "(1,2)\n",
      "(2,0)\n",
      "(2,1)\n",
      "(2,2)\n"
     ]
    }
   ],
   "source": [
    "## list of coordinated (0,0),(0,1),(0,2),(1,0),(1,1),(1,2),....\n",
    "i,j=0,0\n",
    "for i in range(3):\n",
    "    for j in range(3):\n",
    "        print(f\"({i},{j})\")"
   ]
  },
  {
   "cell_type": "markdown",
   "id": "0f28b5ee",
   "metadata": {},
   "source": [
    "### To print the shape of F using the nested loops"
   ]
  },
  {
   "cell_type": "code",
   "execution_count": 44,
   "id": "0ac9f12a",
   "metadata": {},
   "outputs": [
    {
     "name": "stdout",
     "output_type": "stream",
     "text": [
      "xxxxx\n",
      "xx\n",
      "xxxxx\n",
      "xx\n",
      "xx\n"
     ]
    }
   ],
   "source": [
    "li=[5,2,5,2,2]\n",
    "for i in range(5):\n",
    "    print(\"x\"*li[i])"
   ]
  },
  {
   "cell_type": "code",
   "execution_count": 45,
   "id": "7b181ede",
   "metadata": {},
   "outputs": [
    {
     "name": "stdout",
     "output_type": "stream",
     "text": [
      "xxxxx\n",
      "xx\n",
      "xxxxx\n",
      "xx\n",
      "xx\n"
     ]
    }
   ],
   "source": [
    "numbers=[5,2,5,2,2]\n",
    "for count in numbers:\n",
    "    print(\"x\"*count)"
   ]
  },
  {
   "cell_type": "markdown",
   "id": "bc2de232",
   "metadata": {},
   "source": [
    "### Another way using nesting"
   ]
  },
  {
   "cell_type": "code",
   "execution_count": 47,
   "id": "4cfef1b0",
   "metadata": {},
   "outputs": [
    {
     "name": "stdout",
     "output_type": "stream",
     "text": [
      "xxxxx\n",
      "xx\n",
      "xxxxx\n",
      "xx\n",
      "xx\n"
     ]
    }
   ],
   "source": [
    "numbers=[5,2,5,2,2]\n",
    "for count in numbers:\n",
    "    for i in range(count):\n",
    "        print(\"x\",end='')\n",
    "    print(end='\\n')"
   ]
  },
  {
   "cell_type": "markdown",
   "id": "40e14697",
   "metadata": {},
   "source": [
    "## Find the largest element in the list"
   ]
  },
  {
   "cell_type": "code",
   "execution_count": 48,
   "id": "3c263073",
   "metadata": {},
   "outputs": [
    {
     "data": {
      "text/plain": [
       "8"
      ]
     },
     "execution_count": 48,
     "metadata": {},
     "output_type": "execute_result"
    }
   ],
   "source": [
    "li=[1,2,3,4,8,5,4,2,5]\n",
    "#largest element in the list is\n",
    "max(li)"
   ]
  },
  {
   "cell_type": "code",
   "execution_count": 49,
   "id": "6f009451",
   "metadata": {},
   "outputs": [
    {
     "name": "stdout",
     "output_type": "stream",
     "text": [
      "Largest element in the list is: 8\n"
     ]
    }
   ],
   "source": [
    "#another way of doing it is\n",
    "li=[1,2,3,4,8,5,4,2,5]\n",
    "largest=li[0]\n",
    "for ele in li:\n",
    "    if ele>largest:\n",
    "        largest=ele\n",
    "print('Largest element in the list is:',largest)"
   ]
  },
  {
   "cell_type": "code",
   "execution_count": 50,
   "id": "b67b8157",
   "metadata": {},
   "outputs": [
    {
     "data": {
      "text/plain": [
       "1"
      ]
     },
     "execution_count": 50,
     "metadata": {},
     "output_type": "execute_result"
    }
   ],
   "source": [
    "#find the smallest element\n",
    "min(li)"
   ]
  },
  {
   "cell_type": "code",
   "execution_count": 52,
   "id": "602fa7a5",
   "metadata": {},
   "outputs": [
    {
     "name": "stdout",
     "output_type": "stream",
     "text": [
      "1\n"
     ]
    }
   ],
   "source": [
    "#another way\n",
    "smallest=li[0]\n",
    "for ele in li:\n",
    "    if ele<smallest:\n",
    "        smallest=ele\n",
    "print(smallest)"
   ]
  },
  {
   "cell_type": "markdown",
   "id": "c548305a",
   "metadata": {},
   "source": [
    "## matrix inpython"
   ]
  },
  {
   "cell_type": "code",
   "execution_count": 53,
   "id": "96eee5aa",
   "metadata": {},
   "outputs": [
    {
     "name": "stdout",
     "output_type": "stream",
     "text": [
      "[[1, 2, 3], [4, 5, 6], [7, 8, 9]]\n"
     ]
    }
   ],
   "source": [
    "matrix=[[1,2,3],\n",
    "       [4,5,6],\n",
    "       [7,8,9]]\n",
    "print(matrix)"
   ]
  },
  {
   "cell_type": "code",
   "execution_count": 55,
   "id": "b47ef4e6",
   "metadata": {},
   "outputs": [
    {
     "name": "stdout",
     "output_type": "stream",
     "text": [
      "1 2 3 \n",
      "4 5 6 \n",
      "7 8 9 \n"
     ]
    }
   ],
   "source": [
    "#display each item of matrix\n",
    "for i in range(len(matrix)):\n",
    "    for j in range(len(matrix)):\n",
    "        print(matrix[i][j],end=' ')\n",
    "    print(end='\\n')"
   ]
  },
  {
   "cell_type": "code",
   "execution_count": 60,
   "id": "f236405e",
   "metadata": {},
   "outputs": [
    {
     "name": "stdout",
     "output_type": "stream",
     "text": [
      "1 44 3 \n",
      "4 5 6 \n",
      "7 8 9 \n"
     ]
    }
   ],
   "source": [
    "for row in matrix:\n",
    "    for col in row:\n",
    "        print(col,end=' ')\n",
    "    print(end='\\n')"
   ]
  },
  {
   "cell_type": "code",
   "execution_count": 56,
   "id": "70c288f4",
   "metadata": {},
   "outputs": [
    {
     "name": "stdout",
     "output_type": "stream",
     "text": [
      "[[1, 44, 3], [4, 5, 6], [7, 8, 9]]\n"
     ]
    }
   ],
   "source": [
    "##insert any element in the list\n",
    "matrix[0][1]=44\n",
    "print(matrix)"
   ]
  },
  {
   "cell_type": "markdown",
   "id": "ea2fca86",
   "metadata": {},
   "source": [
    "## Methods of list"
   ]
  },
  {
   "cell_type": "code",
   "execution_count": 64,
   "id": "79eced77",
   "metadata": {},
   "outputs": [],
   "source": [
    "li=[1,2,3]\n",
    "#to add any new-item in the list use append(element) method\n",
    "li.append(4)#adds item to the end of the list"
   ]
  },
  {
   "cell_type": "markdown",
   "id": "c38e8958",
   "metadata": {},
   "source": [
    "### .append()"
   ]
  },
  {
   "cell_type": "code",
   "execution_count": 65,
   "id": "07e9504d",
   "metadata": {},
   "outputs": [
    {
     "name": "stdout",
     "output_type": "stream",
     "text": [
      "[1, 2, 3, 4]\n"
     ]
    }
   ],
   "source": [
    "print(li)"
   ]
  },
  {
   "cell_type": "markdown",
   "id": "bc26c6fd",
   "metadata": {},
   "source": [
    "### To insert an element at any position"
   ]
  },
  {
   "cell_type": "markdown",
   "id": "ee061e7a",
   "metadata": {},
   "source": [
    "##### We use insert() method: syntax------insert(index,element)"
   ]
  },
  {
   "cell_type": "code",
   "execution_count": 73,
   "id": "a9c2fe46",
   "metadata": {},
   "outputs": [],
   "source": [
    "li.insert(0,32)#32 item will be inserted at index 0"
   ]
  },
  {
   "cell_type": "code",
   "execution_count": 75,
   "id": "6a9f9c3d",
   "metadata": {},
   "outputs": [],
   "source": [
    "li.insert(3,99) #index 99 at index 3"
   ]
  },
  {
   "cell_type": "code",
   "execution_count": 76,
   "id": "43d9b9ee",
   "metadata": {},
   "outputs": [
    {
     "data": {
      "text/plain": [
       "[32, 32, 1, 99, 2, 3, 4, 0, 0]"
      ]
     },
     "execution_count": 76,
     "metadata": {},
     "output_type": "execute_result"
    }
   ],
   "source": [
    "li"
   ]
  },
  {
   "cell_type": "markdown",
   "id": "a85e527a",
   "metadata": {},
   "source": [
    "### to remove the last element from the list"
   ]
  },
  {
   "cell_type": "code",
   "execution_count": 77,
   "id": "25acfd3c",
   "metadata": {},
   "outputs": [
    {
     "data": {
      "text/plain": [
       "0"
      ]
     },
     "execution_count": 77,
     "metadata": {},
     "output_type": "execute_result"
    }
   ],
   "source": [
    "li.pop() #removes the last item from the list"
   ]
  },
  {
   "cell_type": "code",
   "execution_count": 79,
   "id": "7babebd3",
   "metadata": {},
   "outputs": [
    {
     "data": {
      "text/plain": [
       "0"
      ]
     },
     "execution_count": 79,
     "metadata": {},
     "output_type": "execute_result"
    }
   ],
   "source": [
    "li.pop()"
   ]
  },
  {
   "cell_type": "code",
   "execution_count": 80,
   "id": "d5d03869",
   "metadata": {},
   "outputs": [
    {
     "data": {
      "text/plain": [
       "[32, 32, 1, 99, 2, 3, 4]"
      ]
     },
     "execution_count": 80,
     "metadata": {},
     "output_type": "execute_result"
    }
   ],
   "source": [
    "li"
   ]
  },
  {
   "cell_type": "markdown",
   "id": "68e74abf",
   "metadata": {},
   "source": [
    "### To remove any item from the list use remove()--- syntax remove(element)"
   ]
  },
  {
   "cell_type": "code",
   "execution_count": 81,
   "id": "5f0668ed",
   "metadata": {},
   "outputs": [],
   "source": [
    "li.remove(99)"
   ]
  },
  {
   "cell_type": "code",
   "execution_count": 82,
   "id": "ababadd7",
   "metadata": {},
   "outputs": [
    {
     "data": {
      "text/plain": [
       "[32, 32, 1, 2, 3, 4]"
      ]
     },
     "execution_count": 82,
     "metadata": {},
     "output_type": "execute_result"
    }
   ],
   "source": [
    "li"
   ]
  },
  {
   "cell_type": "code",
   "execution_count": 83,
   "id": "218be3ed",
   "metadata": {},
   "outputs": [],
   "source": [
    "li.remove(32) #removes only the first occurence from the list"
   ]
  },
  {
   "cell_type": "code",
   "execution_count": 84,
   "id": "5eb1c33d",
   "metadata": {},
   "outputs": [
    {
     "data": {
      "text/plain": [
       "[32, 1, 2, 3, 4]"
      ]
     },
     "execution_count": 84,
     "metadata": {},
     "output_type": "execute_result"
    }
   ],
   "source": [
    "li"
   ]
  },
  {
   "cell_type": "markdown",
   "id": "f3b2ac9b",
   "metadata": {},
   "source": [
    "### To remove all the items simultaneously from the list use clear()"
   ]
  },
  {
   "cell_type": "code",
   "execution_count": 87,
   "id": "956f9d5a",
   "metadata": {},
   "outputs": [],
   "source": [
    "li.clear() #removes all the items from the list"
   ]
  },
  {
   "cell_type": "code",
   "execution_count": 88,
   "id": "35f7d231",
   "metadata": {
    "scrolled": true
   },
   "outputs": [
    {
     "data": {
      "text/plain": [
       "[]"
      ]
     },
     "execution_count": 88,
     "metadata": {},
     "output_type": "execute_result"
    }
   ],
   "source": [
    "li"
   ]
  },
  {
   "cell_type": "markdown",
   "id": "4485b1bc",
   "metadata": {},
   "source": [
    "#### extend()"
   ]
  },
  {
   "cell_type": "code",
   "execution_count": 89,
   "id": "d9c1392e",
   "metadata": {},
   "outputs": [],
   "source": [
    "## To add list item to the end of list\n",
    "li.extend([1,2,3,4,5,6])"
   ]
  },
  {
   "cell_type": "code",
   "execution_count": 90,
   "id": "771f1d5d",
   "metadata": {},
   "outputs": [
    {
     "data": {
      "text/plain": [
       "[1, 2, 3, 4, 5, 6]"
      ]
     },
     "execution_count": 90,
     "metadata": {},
     "output_type": "execute_result"
    }
   ],
   "source": [
    "li"
   ]
  },
  {
   "cell_type": "code",
   "execution_count": 91,
   "id": "63c7b7c2",
   "metadata": {},
   "outputs": [],
   "source": [
    "li2=[5,6,7,8,9]"
   ]
  },
  {
   "cell_type": "code",
   "execution_count": 93,
   "id": "f2e9fac5",
   "metadata": {},
   "outputs": [],
   "source": [
    "li.extend(li2)"
   ]
  },
  {
   "cell_type": "code",
   "execution_count": 94,
   "id": "1c4f8887",
   "metadata": {
    "scrolled": true
   },
   "outputs": [
    {
     "data": {
      "text/plain": [
       "[1, 2, 3, 4, 5, 6, 5, 6, 7, 8, 9]"
      ]
     },
     "execution_count": 94,
     "metadata": {},
     "output_type": "execute_result"
    }
   ],
   "source": [
    "li"
   ]
  },
  {
   "cell_type": "markdown",
   "id": "9a890039",
   "metadata": {},
   "source": [
    "## To know how many occurences specific element has use count()"
   ]
  },
  {
   "cell_type": "code",
   "execution_count": 96,
   "id": "4782845c",
   "metadata": {},
   "outputs": [
    {
     "data": {
      "text/plain": [
       "2"
      ]
     },
     "execution_count": 96,
     "metadata": {},
     "output_type": "execute_result"
    }
   ],
   "source": [
    "li.count(5)"
   ]
  },
  {
   "cell_type": "markdown",
   "id": "4a1b8ae4",
   "metadata": {},
   "source": [
    "### To sort the elements in the list"
   ]
  },
  {
   "cell_type": "code",
   "execution_count": 99,
   "id": "a591f315",
   "metadata": {},
   "outputs": [],
   "source": [
    "li.sort() #sorts the elements in ascending order"
   ]
  },
  {
   "cell_type": "code",
   "execution_count": 100,
   "id": "476f0fe1",
   "metadata": {},
   "outputs": [
    {
     "data": {
      "text/plain": [
       "[1, 2, 3, 4, 5, 5, 6, 6, 7, 8, 9]"
      ]
     },
     "execution_count": 100,
     "metadata": {},
     "output_type": "execute_result"
    }
   ],
   "source": [
    "li"
   ]
  },
  {
   "cell_type": "markdown",
   "id": "fe5a0ab6",
   "metadata": {},
   "source": [
    "### To sort the element in the descending order"
   ]
  },
  {
   "cell_type": "code",
   "execution_count": 103,
   "id": "becaaaf3",
   "metadata": {},
   "outputs": [],
   "source": [
    "#1.apply sort() function\n",
    "#2.then reverse on the list\n",
    "li.sort()\n",
    "li.reverse() #descending order\n"
   ]
  },
  {
   "cell_type": "code",
   "execution_count": 104,
   "id": "f5a3ca04",
   "metadata": {},
   "outputs": [
    {
     "data": {
      "text/plain": [
       "[9, 8, 7, 6, 6, 5, 5, 4, 3, 2, 1]"
      ]
     },
     "execution_count": 104,
     "metadata": {},
     "output_type": "execute_result"
    }
   ],
   "source": [
    "li"
   ]
  },
  {
   "cell_type": "markdown",
   "id": "a5434a14",
   "metadata": {},
   "source": [
    "### To create the copy of our list"
   ]
  },
  {
   "cell_type": "code",
   "execution_count": 105,
   "id": "635346c6",
   "metadata": {},
   "outputs": [],
   "source": [
    "di=li.copy() #copies the whole list if changes are made that does'nt reflect in the original list"
   ]
  },
  {
   "cell_type": "code",
   "execution_count": 106,
   "id": "4cb2daf1",
   "metadata": {},
   "outputs": [],
   "source": [
    "di.insert(3,11)"
   ]
  },
  {
   "cell_type": "code",
   "execution_count": 107,
   "id": "1d659705",
   "metadata": {},
   "outputs": [
    {
     "data": {
      "text/plain": [
       "[9, 8, 7, 11, 6, 6, 5, 5, 4, 3, 2, 1]"
      ]
     },
     "execution_count": 107,
     "metadata": {},
     "output_type": "execute_result"
    }
   ],
   "source": [
    "di"
   ]
  },
  {
   "cell_type": "code",
   "execution_count": 108,
   "id": "a8de11f7",
   "metadata": {},
   "outputs": [
    {
     "data": {
      "text/plain": [
       "[9, 8, 7, 6, 6, 5, 5, 4, 3, 2, 1]"
      ]
     },
     "execution_count": 108,
     "metadata": {},
     "output_type": "execute_result"
    }
   ],
   "source": [
    "li"
   ]
  },
  {
   "cell_type": "markdown",
   "id": "56d1c427",
   "metadata": {},
   "source": [
    "#### Now if we assign one list to another changes made in copy list are reflected in the original it created reference to original list"
   ]
  },
  {
   "cell_type": "code",
   "execution_count": 111,
   "id": "18ed2fbc",
   "metadata": {},
   "outputs": [
    {
     "data": {
      "text/plain": [
       "[9, 8, 7, 6, 6, 5, 5, 4, 3, 2, 1]"
      ]
     },
     "execution_count": 111,
     "metadata": {},
     "output_type": "execute_result"
    }
   ],
   "source": [
    "dl=li\n",
    "dl"
   ]
  },
  {
   "cell_type": "code",
   "execution_count": 112,
   "id": "6c8cc4f5",
   "metadata": {},
   "outputs": [],
   "source": [
    "dl.append(99)"
   ]
  },
  {
   "cell_type": "code",
   "execution_count": 113,
   "id": "21ac5afc",
   "metadata": {},
   "outputs": [
    {
     "data": {
      "text/plain": [
       "[9, 8, 7, 6, 6, 5, 5, 4, 3, 2, 1, 99]"
      ]
     },
     "execution_count": 113,
     "metadata": {},
     "output_type": "execute_result"
    }
   ],
   "source": [
    "dl"
   ]
  },
  {
   "cell_type": "code",
   "execution_count": 115,
   "id": "542e2ff7",
   "metadata": {},
   "outputs": [
    {
     "data": {
      "text/plain": [
       "[9, 8, 7, 6, 6, 5, 5, 4, 3, 2, 1, 99]"
      ]
     },
     "execution_count": 115,
     "metadata": {},
     "output_type": "execute_result"
    }
   ],
   "source": [
    "li #changes are reflected in original"
   ]
  },
  {
   "cell_type": "markdown",
   "id": "71696555",
   "metadata": {},
   "source": [
    " ## write a program to remove the duplicates from the list"
   ]
  },
  {
   "cell_type": "code",
   "execution_count": 142,
   "id": "4ddb2693",
   "metadata": {},
   "outputs": [
    {
     "data": {
      "text/plain": [
       "[1, 2, 3, 4, 5, 6]"
      ]
     },
     "execution_count": 142,
     "metadata": {},
     "output_type": "execute_result"
    }
   ],
   "source": [
    "lis=[1,2,1,2,3,4,3,4,5,6,6,5]\n",
    "unique=[]\n",
    "#if item in unique list then remove else add to unique list\n",
    "for ele in lis:\n",
    "    if ele not in unique:\n",
    "        unique.append(ele) #contains the list of unique element in the list\n",
    "unique"
   ]
  },
  {
   "cell_type": "code",
   "execution_count": 146,
   "id": "4c98e45c",
   "metadata": {},
   "outputs": [
    {
     "data": {
      "text/plain": [
       "[1, 2, 3, 4, 5, 6]"
      ]
     },
     "execution_count": 146,
     "metadata": {},
     "output_type": "execute_result"
    }
   ],
   "source": [
    "##Another way\n",
    "lis=[1,2,1,2,3,4,3,4,5,6,6,5]\n",
    "#convert the list into set and then to list back bcz in set duplicates are not allowed\n",
    "lis=set(lis)\n",
    "lis=list(lis)\n",
    "lis #all duplicates are removes"
   ]
  },
  {
   "cell_type": "code",
   "execution_count": 138,
   "id": "136538ed",
   "metadata": {},
   "outputs": [
    {
     "data": {
      "text/plain": [
       "2"
      ]
     },
     "execution_count": 138,
     "metadata": {},
     "output_type": "execute_result"
    }
   ],
   "source": [
    "lis.count(6)"
   ]
  },
  {
   "cell_type": "code",
   "execution_count": 147,
   "id": "5dc054f9",
   "metadata": {},
   "outputs": [
    {
     "data": {
      "text/plain": [
       "2.14"
      ]
     },
     "execution_count": 147,
     "metadata": {},
     "output_type": "execute_result"
    }
   ],
   "source": [
    "2.14"
   ]
  },
  {
   "cell_type": "code",
   "execution_count": null,
   "id": "ebd3d8c9",
   "metadata": {},
   "outputs": [],
   "source": []
  }
 ],
 "metadata": {
  "kernelspec": {
   "display_name": "Python 3 (ipykernel)",
   "language": "python",
   "name": "python3"
  },
  "language_info": {
   "codemirror_mode": {
    "name": "ipython",
    "version": 3
   },
   "file_extension": ".py",
   "mimetype": "text/x-python",
   "name": "python",
   "nbconvert_exporter": "python",
   "pygments_lexer": "ipython3",
   "version": "3.9.13"
  }
 },
 "nbformat": 4,
 "nbformat_minor": 5
}
