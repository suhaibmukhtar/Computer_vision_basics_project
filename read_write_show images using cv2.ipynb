{
 "cells": [
  {
   "cell_type": "code",
   "execution_count": 1,
   "id": "b13cca86",
   "metadata": {},
   "outputs": [],
   "source": [
    "import cv2"
   ]
  },
  {
   "cell_type": "code",
   "execution_count": 2,
   "id": "e730dd54",
   "metadata": {},
   "outputs": [],
   "source": [
    "#to read an image\n",
    "img=cv2.imread('_happy_jumping_on_beach-40815.jpg',0) #0=grey-scale 1->coloured image -1=with alpha channel"
   ]
  },
  {
   "cell_type": "code",
   "execution_count": 3,
   "id": "b93b26d6",
   "metadata": {},
   "outputs": [
    {
     "data": {
      "text/plain": [
       "array([[129, 128, 129, ..., 178, 178, 179],\n",
       "       [131, 130, 130, ..., 177, 177, 176],\n",
       "       [132, 132, 131, ..., 177, 175, 174],\n",
       "       ...,\n",
       "       [  0,   0,   0, ...,   0,   0,   0],\n",
       "       [  0,   0,   0, ...,   0,   0,   0],\n",
       "       [  0,   0,   0, ...,   0,   0,   0]], dtype=uint8)"
      ]
     },
     "execution_count": 3,
     "metadata": {},
     "output_type": "execute_result"
    }
   ],
   "source": [
    "img"
   ]
  },
  {
   "cell_type": "code",
   "execution_count": 4,
   "id": "178f2e2c",
   "metadata": {},
   "outputs": [],
   "source": [
    "## To display the image\n",
    "cv2.imshow('window_name',img)\n",
    "cv2.waitKey(5000)#means after 5 sec the window will be closed\n",
    "cv2.destroyAllWindows()"
   ]
  },
  {
   "cell_type": "markdown",
   "id": "cb249196",
   "metadata": {},
   "source": [
    "### if waitKey(0) then we have to close the window manually it will not be closed after time automatically"
   ]
  },
  {
   "cell_type": "code",
   "execution_count": 5,
   "id": "cf7caa04",
   "metadata": {},
   "outputs": [],
   "source": [
    "## To display the image\n",
    "cv2.imshow('window_name',img)\n",
    "cv2.waitKey(0)#means after 5 sec the window will be closed\n",
    "cv2.destroyAllWindows()"
   ]
  },
  {
   "cell_type": "markdown",
   "id": "142515f1",
   "metadata": {},
   "source": [
    "## To show the coloured image"
   ]
  },
  {
   "cell_type": "code",
   "execution_count": 6,
   "id": "cbf5c504",
   "metadata": {},
   "outputs": [],
   "source": [
    "img2=cv2.imread('_happy_jumping_on_beach-40815.jpg',1) #1 means coloured\n",
    "#to display this image\n",
    "cv2.imshow('coloured-image',img2)\n",
    "cv2.waitKey(6000) #6sec\n",
    "cv2.destroyAllWindows()"
   ]
  },
  {
   "cell_type": "markdown",
   "id": "f0e0d98a",
   "metadata": {},
   "source": [
    "### INcluding the alpha channel"
   ]
  },
  {
   "cell_type": "code",
   "execution_count": 7,
   "id": "6838a096",
   "metadata": {},
   "outputs": [],
   "source": [
    "img2=cv2.imread('_happy_jumping_on_beach-40815.jpg',-1) #-1 loading image as it is\n",
    "#to display this image\n",
    "cv2.imshow('coloured-image',img2)\n",
    "cv2.waitKey(6000) #6sec\n",
    "cv2.destroyAllWindows()"
   ]
  },
  {
   "cell_type": "markdown",
   "id": "4842cd22",
   "metadata": {},
   "source": [
    "### To write the image in the form of the file"
   ]
  },
  {
   "cell_type": "code",
   "execution_count": 9,
   "id": "582a3709",
   "metadata": {},
   "outputs": [
    {
     "data": {
      "text/plain": [
       "True"
      ]
     },
     "execution_count": 9,
     "metadata": {},
     "output_type": "execute_result"
    }
   ],
   "source": [
    "## Reading the image\n",
    "img2=cv2.imread('35438_hd.jpg',-1) #-1 loading image as it is\n",
    "#to display this image\n",
    "cv2.imshow('coloured-image',img2)\n",
    "cv2.waitKey(6000) #6sec\n",
    "cv2.destroyAllWindows()\n",
    "## writing this image i.e. saving this image as a file\n",
    "cv2.imwrite('35438_hd___copy___.jpg',img2) #img2 contains the image in which the image was stored"
   ]
  },
  {
   "cell_type": "markdown",
   "id": "9a906538",
   "metadata": {},
   "source": [
    "### Save image only if the escape is entered"
   ]
  },
  {
   "cell_type": "code",
   "execution_count": 10,
   "id": "552ea59a",
   "metadata": {},
   "outputs": [],
   "source": [
    "## Reading the image\n",
    "img2=cv2.imread('35438_hd.jpg',-1) #-1 loading image as it is\n",
    "#to display this image\n",
    "cv2.imshow('coloured-image',img2)\n",
    "#capture the key\n",
    "k=cv2.waitKey(6000) #6sec\n",
    "if k==27: #ascii value of esc\n",
    "    cv2.destroyAllWindows()\n",
    "else:\n",
    "    ## writing this image i.e. saving this image as a file\n",
    "    cv2.destroyAllWindows()\n",
    "    cv2.imwrite('35438_hd___copy___2.jpg',img2) #img2 contains the image in which the image was stored"
   ]
  },
  {
   "cell_type": "markdown",
   "id": "ee6df75a",
   "metadata": {},
   "source": [
    "### To read,write and show vedio "
   ]
  },
  {
   "cell_type": "code",
   "execution_count": 5,
   "id": "770e317d",
   "metadata": {},
   "outputs": [],
   "source": [
    "cap=cv2.VideoCapture(0)#0 is index of our camera\n",
    "#To capute all the frames, we use loop\n",
    "while True:\n",
    "    ret,frame=cap.read() #it returns the available frames and ret is a flag-variable\n",
    "    #to show captured frames\n",
    "    frame=cv2.flip(frame,1)\n",
    "    cv2.imshow('frame',frame)\n",
    "    #now to wait for the q key until that show image-frame\n",
    "    if cv2.waitKey(1) & 0xFF==ord('q'):\n",
    "        break\n",
    "cap.release()\n",
    "cv2.destroyAllWindows()"
   ]
  },
  {
   "cell_type": "markdown",
   "id": "d2f624f5",
   "metadata": {},
   "source": [
    "### To change or flip the camera e.g in above right hand comes on left and lest hand on right to resolve this issue we use  frame=cv2.flip(frame,1)"
   ]
  },
  {
   "cell_type": "code",
   "execution_count": 1,
   "id": "7cfadae8",
   "metadata": {},
   "outputs": [
    {
     "ename": "NameError",
     "evalue": "name 'cv2' is not defined",
     "output_type": "error",
     "traceback": [
      "\u001b[1;31m---------------------------------------------------------------------------\u001b[0m",
      "\u001b[1;31mNameError\u001b[0m                                 Traceback (most recent call last)",
      "\u001b[1;32m~\\AppData\\Local\\Temp\\ipykernel_3676\\2648042754.py\u001b[0m in \u001b[0;36m<module>\u001b[1;34m\u001b[0m\n\u001b[1;32m----> 1\u001b[1;33m \u001b[0mcap\u001b[0m\u001b[1;33m=\u001b[0m\u001b[0mcv2\u001b[0m\u001b[1;33m.\u001b[0m\u001b[0mVideoCapture\u001b[0m\u001b[1;33m(\u001b[0m\u001b[1;36m0\u001b[0m\u001b[1;33m)\u001b[0m\u001b[1;31m#0 is index of our camera\u001b[0m\u001b[1;33m\u001b[0m\u001b[1;33m\u001b[0m\u001b[0m\n\u001b[0m\u001b[0;32m      2\u001b[0m \u001b[1;31m#To capute all the frames, we use loop\u001b[0m\u001b[1;33m\u001b[0m\u001b[1;33m\u001b[0m\u001b[0m\n\u001b[0;32m      3\u001b[0m \u001b[1;32mwhile\u001b[0m \u001b[1;32mTrue\u001b[0m\u001b[1;33m:\u001b[0m\u001b[1;33m\u001b[0m\u001b[1;33m\u001b[0m\u001b[0m\n\u001b[0;32m      4\u001b[0m     \u001b[0mret\u001b[0m\u001b[1;33m,\u001b[0m\u001b[0mframe\u001b[0m\u001b[1;33m=\u001b[0m\u001b[0mcap\u001b[0m\u001b[1;33m.\u001b[0m\u001b[0mread\u001b[0m\u001b[1;33m(\u001b[0m\u001b[1;33m)\u001b[0m \u001b[1;31m#it returns the available frames and ret is a flag-variable\u001b[0m\u001b[1;33m\u001b[0m\u001b[1;33m\u001b[0m\u001b[0m\n\u001b[0;32m      5\u001b[0m     \u001b[1;31m#before showing the frame the frame should be inverted\u001b[0m\u001b[1;33m\u001b[0m\u001b[1;33m\u001b[0m\u001b[0m\n",
      "\u001b[1;31mNameError\u001b[0m: name 'cv2' is not defined"
     ]
    }
   ],
   "source": [
    "cap=cv2.VideoCapture(0)#0 is index of our camera\n",
    "#To capute all the frames, we use loop\n",
    "while True:\n",
    "    ret,frame=cap.read() #it returns the available frames and ret is a flag-variable\n",
    "    #before showing the frame the frame should be inverted\n",
    "    frame=cv2.flip(frame,1)\n",
    "    #to show captured frames\n",
    "    cv2.imshow('frame',frame)\n",
    "    #now to wait for the q key until that show image-frame\n",
    "    if cv2.waitKey(1) & 0xFF==ord('q'):\n",
    "        break\n",
    "cap.release()\n",
    "cv2.destroyAllWindows()"
   ]
  },
  {
   "cell_type": "markdown",
   "id": "b4b7fca5",
   "metadata": {},
   "source": [
    "### Basics of opencv cont.........."
   ]
  },
  {
   "cell_type": "markdown",
   "id": "7a3565fa",
   "metadata": {},
   "source": [
    "### Draw the geometric images on the images"
   ]
  },
  {
   "cell_type": "markdown",
   "id": "cae5abd9",
   "metadata": {},
   "source": [
    "**syntax: cv2.line(img,(initial,coordinates),(final,coordinates),(co,lo,r),thickness)**"
   ]
  },
  {
   "cell_type": "code",
   "execution_count": 11,
   "id": "6a323a36",
   "metadata": {
    "scrolled": true
   },
   "outputs": [],
   "source": [
    "#to read an image\n",
    "img=cv2.imread('_happy_jumping_on_beach-40815.jpg',1) #0=grey-scale 1->coloured image -1=with alpha channel\n",
    "img=cv2.line(img,(0,0),(255,255),(0,255,0))\n",
    "cv2.imshow('image',img)\n",
    "cv2.waitKey(0)\n",
    "cv2.destroyAllWindows()"
   ]
  },
  {
   "cell_type": "markdown",
   "id": "d1604201",
   "metadata": {},
   "source": [
    "#### including the thickness"
   ]
  },
  {
   "cell_type": "code",
   "execution_count": 13,
   "id": "81f748f0",
   "metadata": {},
   "outputs": [],
   "source": [
    "#to read an image\n",
    "img=cv2.imread('_happy_jumping_on_beach-40815.jpg',1) #0=grey-scale 1->coloured image -1=with alpha channel\n",
    "img=cv2.line(img,(0,0),(255,255),(0,255,0),3)\n",
    "cv2.imshow('image',img)\n",
    "cv2.waitKey(0)\n",
    "cv2.destroyAllWindows()"
   ]
  },
  {
   "cell_type": "markdown",
   "id": "7abd4260",
   "metadata": {},
   "source": [
    "### How to draw the text on the video or the image"
   ]
  },
  {
   "cell_type": "code",
   "execution_count": null,
   "id": "8277678e",
   "metadata": {},
   "outputs": [],
   "source": [
    "img=cv2.imread('_happy_jumping_on_beach-40815.jpg',1)\n",
    "font=cv2.FONT_HERSHEY_COMPLEX\n",
    "font_scale=1\n",
    "thickness=3\n",
    "img=cv2.putText(img,'hello',(50,50),font,font_scale,(234,100,124),thickness,cv2.LINE_AA)\n",
    "cv2.imshow('image',img)\n",
    "cv2.waitKey(0)\n",
    "cv2.destroyAllWindows()"
   ]
  },
  {
   "cell_type": "markdown",
   "id": "4da3824a",
   "metadata": {},
   "source": [
    "### show datatime on the video"
   ]
  },
  {
   "cell_type": "code",
   "execution_count": 2,
   "id": "736a75fb",
   "metadata": {},
   "outputs": [],
   "source": [
    "import cv2\n",
    "import datetime\n",
    "import numpy as np"
   ]
  },
  {
   "cell_type": "code",
   "execution_count": 5,
   "id": "fa4a58e1",
   "metadata": {},
   "outputs": [],
   "source": [
    "cap=cv2.VideoCapture(0)\n",
    "while True:\n",
    "    ret,frame=cap.read()\n",
    "    frame=cv2.flip(frame,1)\n",
    "    font=cv2.FONT_HERSHEY_COMPLEX\n",
    "    text=str(datetime.datetime.now())\n",
    "    frame=cv2.putText(frame,text,(100,34),font,1,(100,200,250),2,cv2.LINE_AA)\n",
    "    cv2.imshow('Frame',frame)\n",
    "    if cv2.waitKey(1) & 0xFF==ord('q'):\n",
    "        break\n",
    "cap.release()\n",
    "cv2.destroyAllWindows()"
   ]
  },
  {
   "cell_type": "markdown",
   "id": "d8ca874e",
   "metadata": {},
   "source": [
    "### Mouse events in cv2"
   ]
  },
  {
   "cell_type": "markdown",
   "id": "3b796a2e",
   "metadata": {},
   "source": [
    "**All events inside the cv2 library**"
   ]
  },
  {
   "cell_type": "code",
   "execution_count": 9,
   "id": "f606c717",
   "metadata": {},
   "outputs": [],
   "source": [
    "#dir is inbuilt method shows all packages,classes and methods inside the cv2 library and then filtering only events\n",
    "events=[i for i in dir(cv2) if 'EVENT' in i] "
   ]
  },
  {
   "cell_type": "markdown",
   "id": "c51dd20f",
   "metadata": {},
   "source": [
    "##### the above statement filters all the events from the cv2 module"
   ]
  },
  {
   "cell_type": "code",
   "execution_count": 11,
   "id": "bbf75bef",
   "metadata": {},
   "outputs": [
    {
     "data": {
      "text/plain": [
       "['EVENT_FLAG_ALTKEY',\n",
       " 'EVENT_FLAG_CTRLKEY',\n",
       " 'EVENT_FLAG_LBUTTON',\n",
       " 'EVENT_FLAG_MBUTTON',\n",
       " 'EVENT_FLAG_RBUTTON',\n",
       " 'EVENT_FLAG_SHIFTKEY',\n",
       " 'EVENT_LBUTTONDBLCLK',\n",
       " 'EVENT_LBUTTONDOWN',\n",
       " 'EVENT_LBUTTONUP',\n",
       " 'EVENT_MBUTTONDBLCLK',\n",
       " 'EVENT_MBUTTONDOWN',\n",
       " 'EVENT_MBUTTONUP',\n",
       " 'EVENT_MOUSEHWHEEL',\n",
       " 'EVENT_MOUSEMOVE',\n",
       " 'EVENT_MOUSEWHEEL',\n",
       " 'EVENT_RBUTTONDBLCLK',\n",
       " 'EVENT_RBUTTONDOWN',\n",
       " 'EVENT_RBUTTONUP']"
      ]
     },
     "execution_count": 11,
     "metadata": {},
     "output_type": "execute_result"
    }
   ],
   "source": [
    "events"
   ]
  },
  {
   "cell_type": "markdown",
   "id": "1d2444fd",
   "metadata": {},
   "source": [
    "### using the mouse events from this to listen the mouse events"
   ]
  },
  {
   "cell_type": "markdown",
   "id": "330695ea",
   "metadata": {},
   "source": [
    "**Left button**"
   ]
  },
  {
   "cell_type": "code",
   "execution_count": 18,
   "id": "9def37a0",
   "metadata": {},
   "outputs": [],
   "source": [
    "def click_event(event,x,y,flags,param): \n",
    "    '''Takes input mouse event such as clk and gives ouput coordinates(x,y) where mouse clked,flags,params'''\n",
    "    #when i clk left button down, we show x and y on same image\n",
    "    if event==cv2.EVENT_LBUTTONDOWN:\n",
    "        print(x,',',y) #to see results on the jupyter \n",
    "        strXY=str(x)+\",\"+str(y)\n",
    "        ##putting the x and y on the same image\n",
    "        font=cv2.FONT_HERSHEY_COMPLEX\n",
    "        cv2.putText(img,strXY,(x,y),font,1,(123,234,222),1)\n",
    "        cv2.imshow('image',img)#note window name must be same in all pos"
   ]
  },
  {
   "cell_type": "code",
   "execution_count": 19,
   "id": "eeeed52c",
   "metadata": {},
   "outputs": [
    {
     "name": "stdout",
     "output_type": "stream",
     "text": [
      "142 , 91\n",
      "166 , 166\n",
      "207 , 214\n",
      "32 , 55\n"
     ]
    }
   ],
   "source": [
    "img=np.zeros((512,512,3),np.uint8)\n",
    "cv2.imshow('image',img) #note window name must be same in all pos\n",
    "cv2.setMouseCallback('image',click_event)\n",
    "cv2.waitKey(0)\n",
    "cv2.destroyAllWindows()"
   ]
  },
  {
   "cell_type": "markdown",
   "id": "5b2ac1bc",
   "metadata": {},
   "source": [
    "**Right button**"
   ]
  },
  {
   "cell_type": "code",
   "execution_count": 27,
   "id": "72219631",
   "metadata": {},
   "outputs": [],
   "source": [
    "def click_event(event,x,y,flags,param): \n",
    "    '''Takes input mouse event such as clk and gives ouput coordinates(x,y) where mouse clked,flags,params'''\n",
    "    #when i clk left button down, we show x and y on same image\n",
    "    if event==cv2.EVENT_RBUTTONDOWN:\n",
    "        print(x,',',y) #to see results on the jupyter \n",
    "        strXY=str(x)+\",\"+str(y)\n",
    "        ##putting the x and y on the same image\n",
    "        font=cv2.FONT_HERSHEY_COMPLEX\n",
    "        cv2.putText(img,strXY,(x,y),font,0.5,(123,234,222),1)\n",
    "        cv2.imshow('image',img)#note window name must be same in all pos\n",
    "    #if left button clicked it should should channel values of BGR\n",
    "    if event==cv2.EVENT_LBUTTONDOWN:\n",
    "        blue=img[y,x,0]\n",
    "        green=img[y,x,1]\n",
    "        red=img[y,x,2]\n",
    "        strXY=str(blue)+\",\"+str(green)+','+str(red)\n",
    "        ##putting the x and y on the same image\n",
    "        font=cv2.FONT_HERSHEY_COMPLEX\n",
    "        cv2.putText(img,strXY,(x,y),font,0.5,(123,234,222),1)\n",
    "        cv2.imshow('image',img)#note window name must be same in all pos\n",
    "        "
   ]
  },
  {
   "cell_type": "code",
   "execution_count": 30,
   "id": "f3a7d3c0",
   "metadata": {},
   "outputs": [
    {
     "name": "stdout",
     "output_type": "stream",
     "text": [
      "85 , 74\n",
      "80 , 128\n"
     ]
    }
   ],
   "source": [
    "img=cv2.imread('8e06de1bf2171da2312b6de61c61e4bc.jpg',1)\n",
    "cv2.imshow('image',img) #note window name must be same in all pos\n",
    "cv2.setMouseCallback('image',click_event)\n",
    "cv2.waitKey(0)\n",
    "cv2.destroyAllWindows()"
   ]
  },
  {
   "cell_type": "markdown",
   "id": "e586622c",
   "metadata": {},
   "source": [
    "# Face detection"
   ]
  },
  {
   "cell_type": "markdown",
   "id": "bb6df4a5",
   "metadata": {},
   "source": [
    "**har-feature based cascade classifiers is effective object detection method proposed by paul buyola and michel jones, is a Ml based model**"
   ]
  },
  {
   "cell_type": "code",
   "execution_count": null,
   "id": "d777ca3e",
   "metadata": {},
   "outputs": [],
   "source": []
  }
 ],
 "metadata": {
  "kernelspec": {
   "display_name": "Python 3 (ipykernel)",
   "language": "python",
   "name": "python3"
  },
  "language_info": {
   "codemirror_mode": {
    "name": "ipython",
    "version": 3
   },
   "file_extension": ".py",
   "mimetype": "text/x-python",
   "name": "python",
   "nbconvert_exporter": "python",
   "pygments_lexer": "ipython3",
   "version": "3.9.13"
  }
 },
 "nbformat": 4,
 "nbformat_minor": 5
}
